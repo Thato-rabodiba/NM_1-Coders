{
 "cells": [
  {
   "cell_type": "markdown",
   "id": "b98024c4",
   "metadata": {},
   "source": [
    "# Classification Predict Student Solution"
   ]
  },
  {
   "cell_type": "markdown",
   "id": "3c02f5a9",
   "metadata": {},
   "source": [
    "© Explore Data Science Academy\n",
    "\n",
    "Honour Code\n",
    "We {NM_1 Tech_Gurus}, confirm - by submitting this document - that the solutions in this notebook are a result of my own work and that I abide by the EDSA honour code.\n",
    "\n",
    "Non-compliance with the honour code constitutes a material breach of contract.\n",
    "\n",
    "Predict Overview: EA - Twitter Sentiment Classification\n",
    "Many companies are built around lessening one’s environmental impact or carbon footprint. They offer products and services that are environmentally friendly and sustainable, in line with their values and ideals. They would like to determine how people perceive climate change and whether or not they believe it is a real threat. This would add to their market research efforts in gauging how their product/service may be received.\n",
    "\n",
    "With this context, EDSA is challenging you during the Classification Sprint with the task of creating a Machine Learning model that is able to classify whether or not a person believes in climate change, based on their novel tweet data.\n",
    "\n",
    "Providing an accurate and robust solution to this task gives companies access to a broad base of consumer sentiment, spanning multiple demographic and geographic categories - thus increasing their insights and informing future marketing strategies."
   ]
  },
  {
   "cell_type": "markdown",
   "id": "06d0e5aa",
   "metadata": {},
   "source": [
    "# INTRODUCTION\n",
    "\n",
    "In the modern business landscape, many organizations are passionately embedding eco-conscious principles into their foundation, seeking to mitigate environmental impacts and promote sustainability. These companies offer a variety of products and services that align seamlessly with their green ethos. A crucial part of their strategic marketing is understanding how the public perceives the looming threat of climate change and the extent to which they view it as an immediate concern. This knowledge will provide a critical lens through which to anticipate how their offerings may resonate with potential consumers.\n",
    "\n",
    "Set against this backdrop, EDSA puts forth an exhilarating challenge during the Classification Sprint. Participants are tasked to construct a machine learning model with the ability to discern whether individuals believe in climate change or not, harnessing the power of unique tweet data for this purpose.\n",
    "\n",
    "A comprehensive and precise solution to this challenge equips businesses with a key to unlock expansive consumer sentiment insights. These insights cut across a diverse array of demographic and geographic categories, paving the way for an enriched understanding that can underpin and shape their future marketing strategies"
   ]
  },
  {
   "cell_type": "code",
   "execution_count": 7,
   "id": "fc79d0e3",
   "metadata": {},
   "outputs": [
    {
     "data": {
      "text/html": [
       "<img src=\"https://media.proprofs.com/images/QM/user_images/2286127/1551760625.jpg\"/>"
      ],
      "text/plain": [
       "<IPython.core.display.Image object>"
      ]
     },
     "execution_count": 7,
     "metadata": {},
     "output_type": "execute_result"
    }
   ],
   "source": [
    "from IPython.display import Image\n",
    "image_url = 'https://media.proprofs.com/images/QM/user_images/2286127/1551760625.jpg'\n",
    "Image(url=image_url)"
   ]
  },
  {
   "cell_type": "markdown",
   "id": "978772b0",
   "metadata": {},
   "source": [
    "# Problem Statement\n",
    "Companies operating in various industries need a reliable solution to understand the sentiments expressed by Twitter users regarding climate change. This information is crucial for making informed decisions, developing effective marketing strategies, and aligning their messaging with public sentiment. However, without a robust classification model, companies face challenges in accurately predicting sentiment and extracting valuable insights from the vast amount of data available on social media platforms. To address this problem, companies require a comprehensive sentiment analysis model that can provide real-time monitoring, sentiment classification, and trend analysis to help them stay ahead of the curve and effectively respond to the evolving concerns and preferences of their target audience.\n",
    "\n",
    "In this notebook we set out to analyze tweets collected between Apr 27, 2015 and Feb 21, 2018 regarding climate change. We further wish to train a suitable and high performing classification model, to help classify the tweets into their respective sentiment categories regarding climate change."
   ]
  },
  {
   "cell_type": "markdown",
   "id": "6b665b39",
   "metadata": {},
   "source": [
    "# Table of Contents\n",
    "\n",
    "1. [Introduction to Package Imports](#Introduction-to-Package-Imports)\n",
    "2. [Data Loading Procedures](#Data-Loading-Procedures)\n",
    "3. [Delving into Data: Exploratory Analysis](#Delving-into-Data:-Exploratory-Analysis)\n",
    "4. [Crafting Data: Engineering Steps](#Crafting-Data:-Engineering-Steps)\n",
    "5. [Building Models: Techniques and Approaches](#Building-Models:-Techniques-and-Approaches)\n",
    "6. [Assessing Model Performance](#Assessing-Model-Performance)\n",
    "7. [Understanding Model Explanations](#Understanding-Model-Explanations)"
   ]
  },
  {
   "cell_type": "markdown",
   "id": "13ef3347",
   "metadata": {},
   "source": [
    "# 1. Importing Packages"
   ]
  },
  {
   "cell_type": "code",
   "execution_count": 3,
   "id": "5e607aa7",
   "metadata": {},
   "outputs": [
    {
     "name": "stderr",
     "output_type": "stream",
     "text": [
      "\u001b[1;38;5;214mCOMET WARNING:\u001b[0m As you are running in a Jupyter environment, you will need to call `experiment.end()` when finished to ensure all metrics and code are logged before exiting.\n",
      "\u001b[1;38;5;39mCOMET INFO:\u001b[0m Experiment is live on comet.com https://www.comet.com/thato-rabodiba/nm-1-coders/65399d061f0342c48da377e281b3e929\n",
      "\n"
     ]
    }
   ],
   "source": [
    "from comet_ml import Experiment\n",
    "\n",
    "experiment = Experiment(\n",
    "  api_key=\"iI4wg734rkuRFaqwXKZNNY2WW\",\n",
    "  project_name=\"nm-1-coders\",\n",
    "  workspace=\"thato-rabodiba\"\n",
    ")"
   ]
  },
  {
   "cell_type": "code",
   "execution_count": 4,
   "id": "6a376c81",
   "metadata": {},
   "outputs": [
    {
     "name": "stderr",
     "output_type": "stream",
     "text": [
      "\u001b[1;38;5;39mCOMET INFO:\u001b[0m ---------------------------------------------------------------------------------------\n",
      "\u001b[1;38;5;39mCOMET INFO:\u001b[0m Comet.ml Experiment Summary\n",
      "\u001b[1;38;5;39mCOMET INFO:\u001b[0m ---------------------------------------------------------------------------------------\n",
      "\u001b[1;38;5;39mCOMET INFO:\u001b[0m   Data:\n",
      "\u001b[1;38;5;39mCOMET INFO:\u001b[0m     display_summary_level : 1\n",
      "\u001b[1;38;5;39mCOMET INFO:\u001b[0m     url                   : https://www.comet.com/thato-rabodiba/nm-1-coders/65399d061f0342c48da377e281b3e929\n",
      "\u001b[1;38;5;39mCOMET INFO:\u001b[0m   Uploads:\n",
      "\u001b[1;38;5;39mCOMET INFO:\u001b[0m     conda-environment-definition : 1\n",
      "\u001b[1;38;5;39mCOMET INFO:\u001b[0m     conda-info                   : 1\n",
      "\u001b[1;38;5;39mCOMET INFO:\u001b[0m     conda-specification          : 1\n",
      "\u001b[1;38;5;39mCOMET INFO:\u001b[0m     environment details          : 1\n",
      "\u001b[1;38;5;39mCOMET INFO:\u001b[0m     filename                     : 1\n",
      "\u001b[1;38;5;39mCOMET INFO:\u001b[0m     git metadata                 : 1\n",
      "\u001b[1;38;5;39mCOMET INFO:\u001b[0m     git-patch (uncompressed)     : 1 (15.38 MB)\n",
      "\u001b[1;38;5;39mCOMET INFO:\u001b[0m     installed packages           : 1\n",
      "\u001b[1;38;5;39mCOMET INFO:\u001b[0m     notebook                     : 1\n",
      "\u001b[1;38;5;39mCOMET INFO:\u001b[0m     source_code                  : 1\n",
      "\u001b[1;38;5;39mCOMET INFO:\u001b[0m \n"
     ]
    }
   ],
   "source": [
    "experiment.end()"
   ]
  },
  {
   "cell_type": "code",
   "execution_count": 1,
   "id": "c3b67382",
   "metadata": {},
   "outputs": [],
   "source": [
    "# Libraries for data loading, data manipulation, and data visualization\n",
    "import nltk\n",
    "import numpy as np\n",
    "import pandas as pd\n",
    "import matplotlib.pyplot as plt  # Library for basic plotting in Python\n",
    "import seaborn as sns  # Library for statistical data visualization\n",
    "import plotly.express as px  # Library for interactive visualizations\n",
    "from IPython.core.display import HTML  # Library for rendering HTML content in Jupyter Notebook\n",
    "import string\n",
    "\n",
    "# Libraries for data preparation and model building\n",
    "from sklearn.feature_extraction.text import CountVectorizer\n",
    "from sklearn.model_selection import train_test_split\n",
    "import warnings\n",
    "warnings.filterwarnings('ignore')"
   ]
  },
  {
   "cell_type": "code",
   "execution_count": null,
   "id": "1f52aef0",
   "metadata": {},
   "outputs": [],
   "source": [
    "> >>> import nltk\n",
    "> >>> nltk.download()"
   ]
  },
  {
   "cell_type": "markdown",
   "id": "2cb19849",
   "metadata": {},
   "source": [
    "# 2. Loading the Data\n",
    "[Back to Table of Contents](#Table-of-Contents)\n",
    "\n",
    "⚡ Description: Loading the data ⚡\n",
    "In this section you are required to load the data from the df_train file into a DataFrame."
   ]
  },
  {
   "cell_type": "code",
   "execution_count": 2,
   "id": "8028ffcd",
   "metadata": {},
   "outputs": [],
   "source": [
    "# Load the data\n",
    "df_train = pd.read_csv(\"train.csv\")\n",
    "df_test = pd.read_csv(\"test_with_no_labels.csv\")"
   ]
  },
  {
   "cell_type": "code",
   "execution_count": 3,
   "id": "781b7c98",
   "metadata": {},
   "outputs": [
    {
     "data": {
      "text/html": [
       "<div>\n",
       "<style scoped>\n",
       "    .dataframe tbody tr th:only-of-type {\n",
       "        vertical-align: middle;\n",
       "    }\n",
       "\n",
       "    .dataframe tbody tr th {\n",
       "        vertical-align: top;\n",
       "    }\n",
       "\n",
       "    .dataframe thead th {\n",
       "        text-align: right;\n",
       "    }\n",
       "</style>\n",
       "<table border=\"1\" class=\"dataframe\">\n",
       "  <thead>\n",
       "    <tr style=\"text-align: right;\">\n",
       "      <th></th>\n",
       "      <th>sentiment</th>\n",
       "      <th>message</th>\n",
       "      <th>tweetid</th>\n",
       "    </tr>\n",
       "  </thead>\n",
       "  <tbody>\n",
       "    <tr>\n",
       "      <th>0</th>\n",
       "      <td>1</td>\n",
       "      <td>PolySciMajor EPA chief doesn't think carbon di...</td>\n",
       "      <td>625221</td>\n",
       "    </tr>\n",
       "    <tr>\n",
       "      <th>1</th>\n",
       "      <td>1</td>\n",
       "      <td>It's not like we lack evidence of anthropogeni...</td>\n",
       "      <td>126103</td>\n",
       "    </tr>\n",
       "    <tr>\n",
       "      <th>2</th>\n",
       "      <td>2</td>\n",
       "      <td>RT @RawStory: Researchers say we have three ye...</td>\n",
       "      <td>698562</td>\n",
       "    </tr>\n",
       "    <tr>\n",
       "      <th>3</th>\n",
       "      <td>1</td>\n",
       "      <td>#TodayinMaker# WIRED : 2016 was a pivotal year...</td>\n",
       "      <td>573736</td>\n",
       "    </tr>\n",
       "    <tr>\n",
       "      <th>4</th>\n",
       "      <td>1</td>\n",
       "      <td>RT @SoyNovioDeTodas: It's 2016, and a racist, ...</td>\n",
       "      <td>466954</td>\n",
       "    </tr>\n",
       "  </tbody>\n",
       "</table>\n",
       "</div>"
      ],
      "text/plain": [
       "   sentiment                                            message  tweetid\n",
       "0          1  PolySciMajor EPA chief doesn't think carbon di...   625221\n",
       "1          1  It's not like we lack evidence of anthropogeni...   126103\n",
       "2          2  RT @RawStory: Researchers say we have three ye...   698562\n",
       "3          1  #TodayinMaker# WIRED : 2016 was a pivotal year...   573736\n",
       "4          1  RT @SoyNovioDeTodas: It's 2016, and a racist, ...   466954"
      ]
     },
     "execution_count": 3,
     "metadata": {},
     "output_type": "execute_result"
    }
   ],
   "source": [
    "df_train.head()"
   ]
  },
  {
   "cell_type": "markdown",
   "id": "7dfba7d6",
   "metadata": {},
   "source": [
    "\n",
    "The code df_train.head() displays the first 5 rows of the DataFrame df_train."
   ]
  },
  {
   "cell_type": "code",
   "execution_count": 4,
   "id": "92723e9e",
   "metadata": {},
   "outputs": [
    {
     "data": {
      "text/html": [
       "<div>\n",
       "<style scoped>\n",
       "    .dataframe tbody tr th:only-of-type {\n",
       "        vertical-align: middle;\n",
       "    }\n",
       "\n",
       "    .dataframe tbody tr th {\n",
       "        vertical-align: top;\n",
       "    }\n",
       "\n",
       "    .dataframe thead th {\n",
       "        text-align: right;\n",
       "    }\n",
       "</style>\n",
       "<table border=\"1\" class=\"dataframe\">\n",
       "  <thead>\n",
       "    <tr style=\"text-align: right;\">\n",
       "      <th></th>\n",
       "      <th>sentiment</th>\n",
       "      <th>message</th>\n",
       "      <th>tweetid</th>\n",
       "    </tr>\n",
       "  </thead>\n",
       "  <tbody>\n",
       "    <tr>\n",
       "      <th>15814</th>\n",
       "      <td>1</td>\n",
       "      <td>RT @ezlusztig: They took down the material on ...</td>\n",
       "      <td>22001</td>\n",
       "    </tr>\n",
       "    <tr>\n",
       "      <th>15815</th>\n",
       "      <td>2</td>\n",
       "      <td>RT @washingtonpost: How climate change could b...</td>\n",
       "      <td>17856</td>\n",
       "    </tr>\n",
       "    <tr>\n",
       "      <th>15816</th>\n",
       "      <td>0</td>\n",
       "      <td>notiven: RT: nytimesworld :What does Trump act...</td>\n",
       "      <td>384248</td>\n",
       "    </tr>\n",
       "    <tr>\n",
       "      <th>15817</th>\n",
       "      <td>-1</td>\n",
       "      <td>RT @sara8smiles: Hey liberals the climate chan...</td>\n",
       "      <td>819732</td>\n",
       "    </tr>\n",
       "    <tr>\n",
       "      <th>15818</th>\n",
       "      <td>0</td>\n",
       "      <td>RT @Chet_Cannon: .@kurteichenwald's 'climate c...</td>\n",
       "      <td>806319</td>\n",
       "    </tr>\n",
       "  </tbody>\n",
       "</table>\n",
       "</div>"
      ],
      "text/plain": [
       "       sentiment                                            message  tweetid\n",
       "15814          1  RT @ezlusztig: They took down the material on ...    22001\n",
       "15815          2  RT @washingtonpost: How climate change could b...    17856\n",
       "15816          0  notiven: RT: nytimesworld :What does Trump act...   384248\n",
       "15817         -1  RT @sara8smiles: Hey liberals the climate chan...   819732\n",
       "15818          0  RT @Chet_Cannon: .@kurteichenwald's 'climate c...   806319"
      ]
     },
     "execution_count": 4,
     "metadata": {},
     "output_type": "execute_result"
    }
   ],
   "source": [
    "df_train.tail()"
   ]
  },
  {
   "cell_type": "markdown",
   "id": "f5cbb607",
   "metadata": {},
   "source": [
    "The code displays a new DataFrame containing the specified number of rows from the end of the original DataFrame. The output includes both the column names and the corresponding data for those rows."
   ]
  },
  {
   "cell_type": "code",
   "execution_count": 5,
   "id": "aeae52b7",
   "metadata": {},
   "outputs": [
    {
     "data": {
      "text/plain": [
       "(15819, 3)"
      ]
     },
     "execution_count": 5,
     "metadata": {},
     "output_type": "execute_result"
    }
   ],
   "source": [
    "df_train.shape"
   ]
  },
  {
   "cell_type": "markdown",
   "id": "fe0a12a8",
   "metadata": {},
   "source": [
    "The code df_train.shape provides a concise summary of the dimensions of the Pandas DataFrame df_train. In other words, it tells you how many rows (observations) and columns (features) exist in the DataFrame."
   ]
  },
  {
   "cell_type": "code",
   "execution_count": 6,
   "id": "2b5daf40",
   "metadata": {},
   "outputs": [
    {
     "data": {
      "text/html": [
       "<div>\n",
       "<style scoped>\n",
       "    .dataframe tbody tr th:only-of-type {\n",
       "        vertical-align: middle;\n",
       "    }\n",
       "\n",
       "    .dataframe tbody tr th {\n",
       "        vertical-align: top;\n",
       "    }\n",
       "\n",
       "    .dataframe thead th {\n",
       "        text-align: right;\n",
       "    }\n",
       "</style>\n",
       "<table border=\"1\" class=\"dataframe\">\n",
       "  <thead>\n",
       "    <tr style=\"text-align: right;\">\n",
       "      <th></th>\n",
       "      <th>message</th>\n",
       "      <th>tweetid</th>\n",
       "    </tr>\n",
       "  </thead>\n",
       "  <tbody>\n",
       "    <tr>\n",
       "      <th>0</th>\n",
       "      <td>Europe will now be looking to China to make su...</td>\n",
       "      <td>169760</td>\n",
       "    </tr>\n",
       "    <tr>\n",
       "      <th>1</th>\n",
       "      <td>Combine this with the polling of staffers re c...</td>\n",
       "      <td>35326</td>\n",
       "    </tr>\n",
       "    <tr>\n",
       "      <th>2</th>\n",
       "      <td>The scary, unimpeachable evidence that climate...</td>\n",
       "      <td>224985</td>\n",
       "    </tr>\n",
       "    <tr>\n",
       "      <th>3</th>\n",
       "      <td>@Karoli @morgfair @OsborneInk @dailykos \\nPuti...</td>\n",
       "      <td>476263</td>\n",
       "    </tr>\n",
       "    <tr>\n",
       "      <th>4</th>\n",
       "      <td>RT @FakeWillMoore: 'Female orgasms cause globa...</td>\n",
       "      <td>872928</td>\n",
       "    </tr>\n",
       "  </tbody>\n",
       "</table>\n",
       "</div>"
      ],
      "text/plain": [
       "                                             message  tweetid\n",
       "0  Europe will now be looking to China to make su...   169760\n",
       "1  Combine this with the polling of staffers re c...    35326\n",
       "2  The scary, unimpeachable evidence that climate...   224985\n",
       "3  @Karoli @morgfair @OsborneInk @dailykos \\nPuti...   476263\n",
       "4  RT @FakeWillMoore: 'Female orgasms cause globa...   872928"
      ]
     },
     "execution_count": 6,
     "metadata": {},
     "output_type": "execute_result"
    }
   ],
   "source": [
    "df_test.head()"
   ]
  },
  {
   "cell_type": "code",
   "execution_count": 7,
   "id": "4f9e9b1a",
   "metadata": {},
   "outputs": [
    {
     "data": {
      "text/plain": [
       "(10546, 2)"
      ]
     },
     "execution_count": 7,
     "metadata": {},
     "output_type": "execute_result"
    }
   ],
   "source": [
    "df_test.shape"
   ]
  },
  {
   "cell_type": "markdown",
   "id": "ac158766",
   "metadata": {},
   "source": [
    "# 2.1 Data Cleaning"
   ]
  },
  {
   "cell_type": "code",
   "execution_count": 8,
   "id": "34fe5cf2",
   "metadata": {},
   "outputs": [
    {
     "name": "stdout",
     "output_type": "stream",
     "text": [
      "<class 'pandas.core.frame.DataFrame'>\n",
      "RangeIndex: 15819 entries, 0 to 15818\n",
      "Data columns (total 3 columns):\n",
      " #   Column     Non-Null Count  Dtype \n",
      "---  ------     --------------  ----- \n",
      " 0   sentiment  15819 non-null  int64 \n",
      " 1   message    15819 non-null  object\n",
      " 2   tweetid    15819 non-null  int64 \n",
      "dtypes: int64(2), object(1)\n",
      "memory usage: 370.9+ KB\n"
     ]
    }
   ],
   "source": [
    "df_train.info()"
   ]
  },
  {
   "cell_type": "markdown",
   "id": "baf61baa",
   "metadata": {},
   "source": [
    "The df_train.info() code provides a valuable snapshot of your DataFrame's structure and data characteristics. It helps you identify potential issues with missing values, data type mismatches, or unexpected memory usage, allowing you to make informed decisions about data cleaning, analysis, and modeling."
   ]
  },
  {
   "cell_type": "code",
   "execution_count": 9,
   "id": "909dda46",
   "metadata": {},
   "outputs": [
    {
     "name": "stdout",
     "output_type": "stream",
     "text": [
      "<class 'pandas.core.frame.DataFrame'>\n",
      "RangeIndex: 10546 entries, 0 to 10545\n",
      "Data columns (total 2 columns):\n",
      " #   Column   Non-Null Count  Dtype \n",
      "---  ------   --------------  ----- \n",
      " 0   message  10546 non-null  object\n",
      " 1   tweetid  10546 non-null  int64 \n",
      "dtypes: int64(1), object(1)\n",
      "memory usage: 164.9+ KB\n"
     ]
    }
   ],
   "source": [
    "df_test.info()"
   ]
  },
  {
   "cell_type": "markdown",
   "id": "7d10b9e6",
   "metadata": {},
   "source": [
    "The code df_test.info() provides a concise overview of the DataFrame df_test, offering valuable insights into its structure and data types.\n",
    "\n",
    "Overall, df_test.info() provides a quick and informative summary of the essential characteristics of your DataFrame, enabling you to make informed decisions about data cleaning, exploration, and analysis."
   ]
  },
  {
   "cell_type": "code",
   "execution_count": 11,
   "id": "3f2b5cac",
   "metadata": {},
   "outputs": [
    {
     "data": {
      "text/plain": [
       "sentiment    0\n",
       "message      0\n",
       "tweetid      0\n",
       "dtype: int64"
      ]
     },
     "execution_count": 11,
     "metadata": {},
     "output_type": "execute_result"
    }
   ],
   "source": [
    "df_train.isnull().sum()"
   ]
  },
  {
   "cell_type": "markdown",
   "id": "65fe7427",
   "metadata": {},
   "source": [
    "The code df_train.isnull().sum() calculates and returns the number of null values (missing values) for each column in the DataFrame df_train.\n",
    "\n",
    "So, the combined expression df_train.isnull().sum() essentially counts the number of True values (null values) for each column in the original DataFrame and returns a Series (single-dimensional array) containing these counts."
   ]
  },
  {
   "cell_type": "code",
   "execution_count": 12,
   "id": "8af650cd",
   "metadata": {},
   "outputs": [
    {
     "data": {
      "text/plain": [
       "message    0\n",
       "tweetid    0\n",
       "dtype: int64"
      ]
     },
     "execution_count": 12,
     "metadata": {},
     "output_type": "execute_result"
    }
   ],
   "source": [
    "df_test.isnull().sum()"
   ]
  },
  {
   "cell_type": "markdown",
   "id": "c0af667f",
   "metadata": {},
   "source": [
    "*This code is a common way to quickly assess the presence and extent of missing data in a DataFrame.\n",
    "\n",
    "*It's often used in data cleaning and preparation stages to identify columns that might need further handling or imputation of missing values.\n",
    "\n",
    "*Understanding missing data is crucial for ensuring accurate analysis and modeling results."
   ]
  },
  {
   "cell_type": "markdown",
   "id": "083311f5",
   "metadata": {},
   "source": [
    "To remove the punction marks, @mentions and special characters, we create a function"
   ]
  },
  {
   "cell_type": "code",
   "execution_count": 4,
   "id": "62d9efbf",
   "metadata": {},
   "outputs": [],
   "source": [
    "import re\n",
    "\n",
    "def clean_tweet(twts):\n",
    "    ''' This function takes a array, list or series like objects containing tweets\n",
    "        and replace all with empty pace, and convert to lower case\n",
    "    '''\n",
    "    \n",
    "    # to convert to lower case\n",
    "    twts = twts.lower()\n",
    "    \n",
    "    \n",
    "    # Remove mentions (e.g., @username)\n",
    "    twts = re.sub(r'@[A-Za-z0-9_]+', '', twts)\n",
    "\n",
    "    # Remove URLs (e.g., https://example.com)\n",
    "    twts = re.sub(r'http[s]?://(?:[A-Za-z]|[0-9]|[$-_@.&+]|[!*\\(\\),]|(?:%[0-9A-Fa-f][0-9A-Fa-f]))+', '', twts)\n",
    "\n",
    "    # Remove punctuation marks\n",
    "    twts = re.sub(r'[^\\w\\s]', '', twts)\n",
    "\n",
    "    return twts"
   ]
  },
  {
   "cell_type": "code",
   "execution_count": 5,
   "id": "843f604f",
   "metadata": {},
   "outputs": [],
   "source": [
    "#df = df_train.copy() # assign the dataframe to a new object\n",
    "\n",
    "#df = pd.concat([df_train,df_test])\n",
    "\n",
    "df = df_train\n",
    "\n",
    "df['message'] = df['message'].apply(clean_tweet)"
   ]
  },
  {
   "cell_type": "code",
   "execution_count": 6,
   "id": "5111f31a",
   "metadata": {},
   "outputs": [],
   "source": [
    "df_test.message = df_test.message.apply(clean_tweet)"
   ]
  },
  {
   "cell_type": "code",
   "execution_count": 7,
   "id": "04ca17ad",
   "metadata": {},
   "outputs": [
    {
     "data": {
      "text/html": [
       "<div>\n",
       "<style scoped>\n",
       "    .dataframe tbody tr th:only-of-type {\n",
       "        vertical-align: middle;\n",
       "    }\n",
       "\n",
       "    .dataframe tbody tr th {\n",
       "        vertical-align: top;\n",
       "    }\n",
       "\n",
       "    .dataframe thead th {\n",
       "        text-align: right;\n",
       "    }\n",
       "</style>\n",
       "<table border=\"1\" class=\"dataframe\">\n",
       "  <thead>\n",
       "    <tr style=\"text-align: right;\">\n",
       "      <th></th>\n",
       "      <th>sentiment</th>\n",
       "      <th>message</th>\n",
       "      <th>tweetid</th>\n",
       "    </tr>\n",
       "  </thead>\n",
       "  <tbody>\n",
       "    <tr>\n",
       "      <th>0</th>\n",
       "      <td>1</td>\n",
       "      <td>polyscimajor epa chief doesnt think carbon dio...</td>\n",
       "      <td>625221</td>\n",
       "    </tr>\n",
       "    <tr>\n",
       "      <th>1</th>\n",
       "      <td>1</td>\n",
       "      <td>its not like we lack evidence of anthropogenic...</td>\n",
       "      <td>126103</td>\n",
       "    </tr>\n",
       "    <tr>\n",
       "      <th>2</th>\n",
       "      <td>2</td>\n",
       "      <td>rt  researchers say we have three years to act...</td>\n",
       "      <td>698562</td>\n",
       "    </tr>\n",
       "    <tr>\n",
       "      <th>3</th>\n",
       "      <td>1</td>\n",
       "      <td>todayinmaker wired  2016 was a pivotal year in...</td>\n",
       "      <td>573736</td>\n",
       "    </tr>\n",
       "    <tr>\n",
       "      <th>4</th>\n",
       "      <td>1</td>\n",
       "      <td>rt  its 2016 and a racist sexist climate chang...</td>\n",
       "      <td>466954</td>\n",
       "    </tr>\n",
       "  </tbody>\n",
       "</table>\n",
       "</div>"
      ],
      "text/plain": [
       "   sentiment                                            message  tweetid\n",
       "0          1  polyscimajor epa chief doesnt think carbon dio...   625221\n",
       "1          1  its not like we lack evidence of anthropogenic...   126103\n",
       "2          2  rt  researchers say we have three years to act...   698562\n",
       "3          1  todayinmaker wired  2016 was a pivotal year in...   573736\n",
       "4          1  rt  its 2016 and a racist sexist climate chang...   466954"
      ]
     },
     "execution_count": 7,
     "metadata": {},
     "output_type": "execute_result"
    }
   ],
   "source": [
    "df.head()"
   ]
  },
  {
   "cell_type": "code",
   "execution_count": 8,
   "id": "0024aedf",
   "metadata": {},
   "outputs": [
    {
     "data": {
      "text/html": [
       "<div>\n",
       "<style scoped>\n",
       "    .dataframe tbody tr th:only-of-type {\n",
       "        vertical-align: middle;\n",
       "    }\n",
       "\n",
       "    .dataframe tbody tr th {\n",
       "        vertical-align: top;\n",
       "    }\n",
       "\n",
       "    .dataframe thead th {\n",
       "        text-align: right;\n",
       "    }\n",
       "</style>\n",
       "<table border=\"1\" class=\"dataframe\">\n",
       "  <thead>\n",
       "    <tr style=\"text-align: right;\">\n",
       "      <th></th>\n",
       "      <th>sentiment</th>\n",
       "      <th>message</th>\n",
       "      <th>tweetid</th>\n",
       "    </tr>\n",
       "  </thead>\n",
       "  <tbody>\n",
       "    <tr>\n",
       "      <th>15814</th>\n",
       "      <td>1</td>\n",
       "      <td>rt  they took down the material on global warm...</td>\n",
       "      <td>22001</td>\n",
       "    </tr>\n",
       "    <tr>\n",
       "      <th>15815</th>\n",
       "      <td>2</td>\n",
       "      <td>rt  how climate change could be breaking up a ...</td>\n",
       "      <td>17856</td>\n",
       "    </tr>\n",
       "    <tr>\n",
       "      <th>15816</th>\n",
       "      <td>0</td>\n",
       "      <td>notiven rt nytimesworld what does trump actual...</td>\n",
       "      <td>384248</td>\n",
       "    </tr>\n",
       "    <tr>\n",
       "      <th>15817</th>\n",
       "      <td>-1</td>\n",
       "      <td>rt  hey liberals the climate change crap is a ...</td>\n",
       "      <td>819732</td>\n",
       "    </tr>\n",
       "    <tr>\n",
       "      <th>15818</th>\n",
       "      <td>0</td>\n",
       "      <td>rt  s climate change equation in 4 screenshots</td>\n",
       "      <td>806319</td>\n",
       "    </tr>\n",
       "  </tbody>\n",
       "</table>\n",
       "</div>"
      ],
      "text/plain": [
       "       sentiment                                            message  tweetid\n",
       "15814          1  rt  they took down the material on global warm...    22001\n",
       "15815          2  rt  how climate change could be breaking up a ...    17856\n",
       "15816          0  notiven rt nytimesworld what does trump actual...   384248\n",
       "15817         -1  rt  hey liberals the climate change crap is a ...   819732\n",
       "15818          0    rt  s climate change equation in 4 screenshots    806319"
      ]
     },
     "execution_count": 8,
     "metadata": {},
     "output_type": "execute_result"
    }
   ],
   "source": [
    "df.tail()"
   ]
  },
  {
   "cell_type": "code",
   "execution_count": 9,
   "id": "99f331bf",
   "metadata": {},
   "outputs": [
    {
     "data": {
      "text/plain": [
       "(15819, 3)"
      ]
     },
     "execution_count": 9,
     "metadata": {},
     "output_type": "execute_result"
    }
   ],
   "source": [
    "df.shape"
   ]
  },
  {
   "cell_type": "code",
   "execution_count": 10,
   "id": "8fca0a09",
   "metadata": {},
   "outputs": [
    {
     "data": {
      "text/plain": [
       "0"
      ]
     },
     "execution_count": 10,
     "metadata": {},
     "output_type": "execute_result"
    }
   ],
   "source": [
    "# check for duplicate row in the data frame\n",
    "\n",
    "df.duplicated().sum()"
   ]
  },
  {
   "cell_type": "code",
   "execution_count": 11,
   "id": "7663dfe9",
   "metadata": {},
   "outputs": [
    {
     "data": {
      "text/html": [
       "<div>\n",
       "<style scoped>\n",
       "    .dataframe tbody tr th:only-of-type {\n",
       "        vertical-align: middle;\n",
       "    }\n",
       "\n",
       "    .dataframe tbody tr th {\n",
       "        vertical-align: top;\n",
       "    }\n",
       "\n",
       "    .dataframe thead th {\n",
       "        text-align: right;\n",
       "    }\n",
       "</style>\n",
       "<table border=\"1\" class=\"dataframe\">\n",
       "  <thead>\n",
       "    <tr style=\"text-align: right;\">\n",
       "      <th></th>\n",
       "      <th>sentiment</th>\n",
       "      <th>message</th>\n",
       "      <th>tweetid</th>\n",
       "    </tr>\n",
       "  </thead>\n",
       "  <tbody>\n",
       "    <tr>\n",
       "      <th>0</th>\n",
       "      <td>1</td>\n",
       "      <td>polyscimajor epa chief doesnt think carbon dioxide is main cause of global warming and wait what  via</td>\n",
       "      <td>625221</td>\n",
       "    </tr>\n",
       "    <tr>\n",
       "      <th>1</th>\n",
       "      <td>1</td>\n",
       "      <td>its not like we lack evidence of anthropogenic global warming</td>\n",
       "      <td>126103</td>\n",
       "    </tr>\n",
       "    <tr>\n",
       "      <th>2</th>\n",
       "      <td>2</td>\n",
       "      <td>rt  researchers say we have three years to act on climate change before its too late</td>\n",
       "      <td>698562</td>\n",
       "    </tr>\n",
       "    <tr>\n",
       "      <th>3</th>\n",
       "      <td>1</td>\n",
       "      <td>todayinmaker wired  2016 was a pivotal year in the war on climate change</td>\n",
       "      <td>573736</td>\n",
       "    </tr>\n",
       "    <tr>\n",
       "      <th>4</th>\n",
       "      <td>1</td>\n",
       "      <td>rt  its 2016 and a racist sexist climate change denying bigot is leading in the polls electionnight</td>\n",
       "      <td>466954</td>\n",
       "    </tr>\n",
       "    <tr>\n",
       "      <th>...</th>\n",
       "      <td>...</td>\n",
       "      <td>...</td>\n",
       "      <td>...</td>\n",
       "    </tr>\n",
       "    <tr>\n",
       "      <th>15814</th>\n",
       "      <td>1</td>\n",
       "      <td>rt  they took down the material on global warming lgbt rights and health care but now theyre hocking melanias qvc https</td>\n",
       "      <td>22001</td>\n",
       "    </tr>\n",
       "    <tr>\n",
       "      <th>15815</th>\n",
       "      <td>2</td>\n",
       "      <td>rt  how climate change could be breaking up a 200millionyearold relationship</td>\n",
       "      <td>17856</td>\n",
       "    </tr>\n",
       "    <tr>\n",
       "      <th>15816</th>\n",
       "      <td>0</td>\n",
       "      <td>notiven rt nytimesworld what does trump actually believe about climate change rick perry joins other aides in</td>\n",
       "      <td>384248</td>\n",
       "    </tr>\n",
       "    <tr>\n",
       "      <th>15817</th>\n",
       "      <td>-1</td>\n",
       "      <td>rt  hey liberals the climate change crap is a hoax that ties to agenda2030\\nthe climate is being changed byãââ</td>\n",
       "      <td>819732</td>\n",
       "    </tr>\n",
       "    <tr>\n",
       "      <th>15818</th>\n",
       "      <td>0</td>\n",
       "      <td>rt  s climate change equation in 4 screenshots</td>\n",
       "      <td>806319</td>\n",
       "    </tr>\n",
       "  </tbody>\n",
       "</table>\n",
       "<p>15819 rows × 3 columns</p>\n",
       "</div>"
      ],
      "text/plain": [
       "       sentiment  \\\n",
       "0              1   \n",
       "1              1   \n",
       "2              2   \n",
       "3              1   \n",
       "4              1   \n",
       "...          ...   \n",
       "15814          1   \n",
       "15815          2   \n",
       "15816          0   \n",
       "15817         -1   \n",
       "15818          0   \n",
       "\n",
       "                                                                                                                       message  \\\n",
       "0                       polyscimajor epa chief doesnt think carbon dioxide is main cause of global warming and wait what  via    \n",
       "1                                                                its not like we lack evidence of anthropogenic global warming   \n",
       "2                                       rt  researchers say we have three years to act on climate change before its too late     \n",
       "3                                                    todayinmaker wired  2016 was a pivotal year in the war on climate change    \n",
       "4                          rt  its 2016 and a racist sexist climate change denying bigot is leading in the polls electionnight   \n",
       "...                                                                                                                        ...   \n",
       "15814  rt  they took down the material on global warming lgbt rights and health care but now theyre hocking melanias qvc https   \n",
       "15815                                            rt  how climate change could be breaking up a 200millionyearold relationship    \n",
       "15816          notiven rt nytimesworld what does trump actually believe about climate change rick perry joins other aides in     \n",
       "15817           rt  hey liberals the climate change crap is a hoax that ties to agenda2030\\nthe climate is being changed byãââ   \n",
       "15818                                                                          rt  s climate change equation in 4 screenshots    \n",
       "\n",
       "       tweetid  \n",
       "0       625221  \n",
       "1       126103  \n",
       "2       698562  \n",
       "3       573736  \n",
       "4       466954  \n",
       "...        ...  \n",
       "15814    22001  \n",
       "15815    17856  \n",
       "15816   384248  \n",
       "15817   819732  \n",
       "15818   806319  \n",
       "\n",
       "[15819 rows x 3 columns]"
      ]
     },
     "metadata": {},
     "output_type": "display_data"
    }
   ],
   "source": [
    "with pd.option_context('display.max_colwidth', None):\n",
    "  display(df)"
   ]
  },
  {
   "cell_type": "code",
   "execution_count": 12,
   "id": "d2a11c2a",
   "metadata": {},
   "outputs": [],
   "source": [
    "# Function to remove 'RT' from tweets\n",
    "def remove_rt(tweet):\n",
    "    return tweet.replace('rt', '')\n",
    "\n",
    "# Apply the function to the 'tweets' column\n",
    "df['message'] = df['message'].apply(remove_rt)"
   ]
  },
  {
   "cell_type": "code",
   "execution_count": 13,
   "id": "7d7dd434",
   "metadata": {},
   "outputs": [],
   "source": [
    "df_test.message = df_test.message.apply(remove_rt)"
   ]
  },
  {
   "cell_type": "code",
   "execution_count": 14,
   "id": "7c86ff26",
   "metadata": {},
   "outputs": [
    {
     "data": {
      "text/html": [
       "<div>\n",
       "<style scoped>\n",
       "    .dataframe tbody tr th:only-of-type {\n",
       "        vertical-align: middle;\n",
       "    }\n",
       "\n",
       "    .dataframe tbody tr th {\n",
       "        vertical-align: top;\n",
       "    }\n",
       "\n",
       "    .dataframe thead th {\n",
       "        text-align: right;\n",
       "    }\n",
       "</style>\n",
       "<table border=\"1\" class=\"dataframe\">\n",
       "  <thead>\n",
       "    <tr style=\"text-align: right;\">\n",
       "      <th></th>\n",
       "      <th>sentiment</th>\n",
       "      <th>message</th>\n",
       "      <th>tweetid</th>\n",
       "    </tr>\n",
       "  </thead>\n",
       "  <tbody>\n",
       "    <tr>\n",
       "      <th>0</th>\n",
       "      <td>1</td>\n",
       "      <td>polyscimajor epa chief doesnt think carbon dioxide is main cause of global warming and wait what  via</td>\n",
       "      <td>625221</td>\n",
       "    </tr>\n",
       "    <tr>\n",
       "      <th>1</th>\n",
       "      <td>1</td>\n",
       "      <td>its not like we lack evidence of anthropogenic global warming</td>\n",
       "      <td>126103</td>\n",
       "    </tr>\n",
       "    <tr>\n",
       "      <th>2</th>\n",
       "      <td>2</td>\n",
       "      <td>researchers say we have three years to act on climate change before its too late</td>\n",
       "      <td>698562</td>\n",
       "    </tr>\n",
       "    <tr>\n",
       "      <th>3</th>\n",
       "      <td>1</td>\n",
       "      <td>todayinmaker wired  2016 was a pivotal year in the war on climate change</td>\n",
       "      <td>573736</td>\n",
       "    </tr>\n",
       "    <tr>\n",
       "      <th>4</th>\n",
       "      <td>1</td>\n",
       "      <td>its 2016 and a racist sexist climate change denying bigot is leading in the polls electionnight</td>\n",
       "      <td>466954</td>\n",
       "    </tr>\n",
       "    <tr>\n",
       "      <th>...</th>\n",
       "      <td>...</td>\n",
       "      <td>...</td>\n",
       "      <td>...</td>\n",
       "    </tr>\n",
       "    <tr>\n",
       "      <th>15814</th>\n",
       "      <td>1</td>\n",
       "      <td>they took down the material on global warming lgbt rights and health care but now theyre hocking melanias qvc https</td>\n",
       "      <td>22001</td>\n",
       "    </tr>\n",
       "    <tr>\n",
       "      <th>15815</th>\n",
       "      <td>2</td>\n",
       "      <td>how climate change could be breaking up a 200millionyearold relationship</td>\n",
       "      <td>17856</td>\n",
       "    </tr>\n",
       "    <tr>\n",
       "      <th>15816</th>\n",
       "      <td>0</td>\n",
       "      <td>notiven  nytimesworld what does trump actually believe about climate change rick perry joins other aides in</td>\n",
       "      <td>384248</td>\n",
       "    </tr>\n",
       "    <tr>\n",
       "      <th>15817</th>\n",
       "      <td>-1</td>\n",
       "      <td>hey liberals the climate change crap is a hoax that ties to agenda2030\\nthe climate is being changed byãââ</td>\n",
       "      <td>819732</td>\n",
       "    </tr>\n",
       "    <tr>\n",
       "      <th>15818</th>\n",
       "      <td>0</td>\n",
       "      <td>s climate change equation in 4 screenshots</td>\n",
       "      <td>806319</td>\n",
       "    </tr>\n",
       "  </tbody>\n",
       "</table>\n",
       "<p>15819 rows × 3 columns</p>\n",
       "</div>"
      ],
      "text/plain": [
       "       sentiment  \\\n",
       "0              1   \n",
       "1              1   \n",
       "2              2   \n",
       "3              1   \n",
       "4              1   \n",
       "...          ...   \n",
       "15814          1   \n",
       "15815          2   \n",
       "15816          0   \n",
       "15817         -1   \n",
       "15818          0   \n",
       "\n",
       "                                                                                                                     message  \\\n",
       "0                     polyscimajor epa chief doesnt think carbon dioxide is main cause of global warming and wait what  via    \n",
       "1                                                              its not like we lack evidence of anthropogenic global warming   \n",
       "2                                         researchers say we have three years to act on climate change before its too late     \n",
       "3                                                  todayinmaker wired  2016 was a pivotal year in the war on climate change    \n",
       "4                            its 2016 and a racist sexist climate change denying bigot is leading in the polls electionnight   \n",
       "...                                                                                                                      ...   \n",
       "15814    they took down the material on global warming lgbt rights and health care but now theyre hocking melanias qvc https   \n",
       "15815                                              how climate change could be breaking up a 200millionyearold relationship    \n",
       "15816          notiven  nytimesworld what does trump actually believe about climate change rick perry joins other aides in     \n",
       "15817             hey liberals the climate change crap is a hoax that ties to agenda2030\\nthe climate is being changed byãââ   \n",
       "15818                                                                            s climate change equation in 4 screenshots    \n",
       "\n",
       "       tweetid  \n",
       "0       625221  \n",
       "1       126103  \n",
       "2       698562  \n",
       "3       573736  \n",
       "4       466954  \n",
       "...        ...  \n",
       "15814    22001  \n",
       "15815    17856  \n",
       "15816   384248  \n",
       "15817   819732  \n",
       "15818   806319  \n",
       "\n",
       "[15819 rows x 3 columns]"
      ]
     },
     "metadata": {},
     "output_type": "display_data"
    }
   ],
   "source": [
    "with pd.option_context('display.max_colwidth', None):\n",
    "  display(df)"
   ]
  },
  {
   "cell_type": "code",
   "execution_count": 15,
   "id": "dcb96dd8",
   "metadata": {},
   "outputs": [],
   "source": [
    "#removes all non-english (non-ascii) characters\n",
    "def remove_non_ascii(message):\n",
    "    return ''.join([l for l in message if l in string.printable])\n",
    "\n",
    "df['message'] = df['message'].apply(remove_non_ascii)"
   ]
  },
  {
   "cell_type": "code",
   "execution_count": 16,
   "id": "99cb3db6",
   "metadata": {},
   "outputs": [],
   "source": [
    "df_test.message = df_test.message.apply(remove_non_ascii)"
   ]
  },
  {
   "cell_type": "markdown",
   "id": "b9a87be4",
   "metadata": {},
   "source": [
    "# NOTE: | Our data is relatively clean now we can move on with the EDA section to understand more about the data |"
   ]
  },
  {
   "cell_type": "code",
   "execution_count": 17,
   "id": "e3df4032",
   "metadata": {},
   "outputs": [
    {
     "data": {
      "text/html": [
       "<div>\n",
       "<style scoped>\n",
       "    .dataframe tbody tr th:only-of-type {\n",
       "        vertical-align: middle;\n",
       "    }\n",
       "\n",
       "    .dataframe tbody tr th {\n",
       "        vertical-align: top;\n",
       "    }\n",
       "\n",
       "    .dataframe thead th {\n",
       "        text-align: right;\n",
       "    }\n",
       "</style>\n",
       "<table border=\"1\" class=\"dataframe\">\n",
       "  <thead>\n",
       "    <tr style=\"text-align: right;\">\n",
       "      <th></th>\n",
       "      <th>sentiment</th>\n",
       "      <th>message</th>\n",
       "      <th>tweetid</th>\n",
       "    </tr>\n",
       "  </thead>\n",
       "  <tbody>\n",
       "    <tr>\n",
       "      <th>0</th>\n",
       "      <td>1</td>\n",
       "      <td>polyscimajor epa chief doesnt think carbon dioxide is main cause of global warming and wait what  via</td>\n",
       "      <td>625221</td>\n",
       "    </tr>\n",
       "    <tr>\n",
       "      <th>1</th>\n",
       "      <td>1</td>\n",
       "      <td>its not like we lack evidence of anthropogenic global warming</td>\n",
       "      <td>126103</td>\n",
       "    </tr>\n",
       "    <tr>\n",
       "      <th>2</th>\n",
       "      <td>2</td>\n",
       "      <td>researchers say we have three years to act on climate change before its too late</td>\n",
       "      <td>698562</td>\n",
       "    </tr>\n",
       "    <tr>\n",
       "      <th>3</th>\n",
       "      <td>1</td>\n",
       "      <td>todayinmaker wired  2016 was a pivotal year in the war on climate change</td>\n",
       "      <td>573736</td>\n",
       "    </tr>\n",
       "    <tr>\n",
       "      <th>4</th>\n",
       "      <td>1</td>\n",
       "      <td>its 2016 and a racist sexist climate change denying bigot is leading in the polls electionnight</td>\n",
       "      <td>466954</td>\n",
       "    </tr>\n",
       "    <tr>\n",
       "      <th>...</th>\n",
       "      <td>...</td>\n",
       "      <td>...</td>\n",
       "      <td>...</td>\n",
       "    </tr>\n",
       "    <tr>\n",
       "      <th>15814</th>\n",
       "      <td>1</td>\n",
       "      <td>they took down the material on global warming lgbt rights and health care but now theyre hocking melanias qvc https</td>\n",
       "      <td>22001</td>\n",
       "    </tr>\n",
       "    <tr>\n",
       "      <th>15815</th>\n",
       "      <td>2</td>\n",
       "      <td>how climate change could be breaking up a 200millionyearold relationship</td>\n",
       "      <td>17856</td>\n",
       "    </tr>\n",
       "    <tr>\n",
       "      <th>15816</th>\n",
       "      <td>0</td>\n",
       "      <td>notiven  nytimesworld what does trump actually believe about climate change rick perry joins other aides in</td>\n",
       "      <td>384248</td>\n",
       "    </tr>\n",
       "    <tr>\n",
       "      <th>15817</th>\n",
       "      <td>-1</td>\n",
       "      <td>hey liberals the climate change crap is a hoax that ties to agenda2030\\nthe climate is being changed by</td>\n",
       "      <td>819732</td>\n",
       "    </tr>\n",
       "    <tr>\n",
       "      <th>15818</th>\n",
       "      <td>0</td>\n",
       "      <td>s climate change equation in 4 screenshots</td>\n",
       "      <td>806319</td>\n",
       "    </tr>\n",
       "  </tbody>\n",
       "</table>\n",
       "<p>15819 rows × 3 columns</p>\n",
       "</div>"
      ],
      "text/plain": [
       "       sentiment  \\\n",
       "0              1   \n",
       "1              1   \n",
       "2              2   \n",
       "3              1   \n",
       "4              1   \n",
       "...          ...   \n",
       "15814          1   \n",
       "15815          2   \n",
       "15816          0   \n",
       "15817         -1   \n",
       "15818          0   \n",
       "\n",
       "                                                                                                                     message  \\\n",
       "0                     polyscimajor epa chief doesnt think carbon dioxide is main cause of global warming and wait what  via    \n",
       "1                                                              its not like we lack evidence of anthropogenic global warming   \n",
       "2                                         researchers say we have three years to act on climate change before its too late     \n",
       "3                                                  todayinmaker wired  2016 was a pivotal year in the war on climate change    \n",
       "4                            its 2016 and a racist sexist climate change denying bigot is leading in the polls electionnight   \n",
       "...                                                                                                                      ...   \n",
       "15814    they took down the material on global warming lgbt rights and health care but now theyre hocking melanias qvc https   \n",
       "15815                                              how climate change could be breaking up a 200millionyearold relationship    \n",
       "15816          notiven  nytimesworld what does trump actually believe about climate change rick perry joins other aides in     \n",
       "15817                hey liberals the climate change crap is a hoax that ties to agenda2030\\nthe climate is being changed by   \n",
       "15818                                                                            s climate change equation in 4 screenshots    \n",
       "\n",
       "       tweetid  \n",
       "0       625221  \n",
       "1       126103  \n",
       "2       698562  \n",
       "3       573736  \n",
       "4       466954  \n",
       "...        ...  \n",
       "15814    22001  \n",
       "15815    17856  \n",
       "15816   384248  \n",
       "15817   819732  \n",
       "15818   806319  \n",
       "\n",
       "[15819 rows x 3 columns]"
      ]
     },
     "metadata": {},
     "output_type": "display_data"
    }
   ],
   "source": [
    "with pd.option_context('display.max_colwidth', None):\n",
    "  display(df)"
   ]
  },
  {
   "cell_type": "code",
   "execution_count": 18,
   "id": "54c6c4ba",
   "metadata": {},
   "outputs": [
    {
     "data": {
      "text/html": [
       "<div>\n",
       "<style scoped>\n",
       "    .dataframe tbody tr th:only-of-type {\n",
       "        vertical-align: middle;\n",
       "    }\n",
       "\n",
       "    .dataframe tbody tr th {\n",
       "        vertical-align: top;\n",
       "    }\n",
       "\n",
       "    .dataframe thead th {\n",
       "        text-align: right;\n",
       "    }\n",
       "</style>\n",
       "<table border=\"1\" class=\"dataframe\">\n",
       "  <thead>\n",
       "    <tr style=\"text-align: right;\">\n",
       "      <th></th>\n",
       "      <th>message</th>\n",
       "      <th>tweetid</th>\n",
       "    </tr>\n",
       "  </thead>\n",
       "  <tbody>\n",
       "    <tr>\n",
       "      <th>0</th>\n",
       "      <td>europe will now be looking to china to make sure that it is not alone in fighting climate change</td>\n",
       "      <td>169760</td>\n",
       "    </tr>\n",
       "    <tr>\n",
       "      <th>1</th>\n",
       "      <td>combine this with the polling of staffers re climate change and womens rights and you have a fascist state</td>\n",
       "      <td>35326</td>\n",
       "    </tr>\n",
       "    <tr>\n",
       "      <th>2</th>\n",
       "      <td>the scary unimpeachable evidence that climate change is already here  itstimetochange climatechange</td>\n",
       "      <td>224985</td>\n",
       "    </tr>\n",
       "    <tr>\n",
       "      <th>3</th>\n",
       "      <td>\\nputin got to you too jill  \\ntrump doesnt believe in climate change at all \\nthinks its s hoax</td>\n",
       "      <td>476263</td>\n",
       "    </tr>\n",
       "    <tr>\n",
       "      <th>4</th>\n",
       "      <td>female orgasms cause global warming\\nsarcastic republican</td>\n",
       "      <td>872928</td>\n",
       "    </tr>\n",
       "    <tr>\n",
       "      <th>...</th>\n",
       "      <td>...</td>\n",
       "      <td>...</td>\n",
       "    </tr>\n",
       "    <tr>\n",
       "      <th>10541</th>\n",
       "      <td>brb writing a poem about climate change climatechange science poetry fakenews alternativefacts</td>\n",
       "      <td>895714</td>\n",
       "    </tr>\n",
       "    <tr>\n",
       "      <th>10542</th>\n",
       "      <td>2016 the year climate change came home during the hottest year on record karl mathiesen travelled to tasmania</td>\n",
       "      <td>875167</td>\n",
       "    </tr>\n",
       "    <tr>\n",
       "      <th>10543</th>\n",
       "      <td>pacific countries positive about fiji leading the global climate change conference in november</td>\n",
       "      <td>78329</td>\n",
       "    </tr>\n",
       "    <tr>\n",
       "      <th>10544</th>\n",
       "      <td>youre so hot you must be the cause for global warming aldublaboroflove</td>\n",
       "      <td>867455</td>\n",
       "    </tr>\n",
       "    <tr>\n",
       "      <th>10545</th>\n",
       "      <td>climate change is a global issue thats only getting worse eating plant based is the least amount of effo that h</td>\n",
       "      <td>470892</td>\n",
       "    </tr>\n",
       "  </tbody>\n",
       "</table>\n",
       "<p>10546 rows × 2 columns</p>\n",
       "</div>"
      ],
      "text/plain": [
       "                                                                                                                 message  \\\n",
       "0                      europe will now be looking to china to make sure that it is not alone in fighting climate change    \n",
       "1            combine this with the polling of staffers re climate change and womens rights and you have a fascist state    \n",
       "2                   the scary unimpeachable evidence that climate change is already here  itstimetochange climatechange    \n",
       "3                       \\nputin got to you too jill  \\ntrump doesnt believe in climate change at all \\nthinks its s hoax   \n",
       "4                                                              female orgasms cause global warming\\nsarcastic republican   \n",
       "...                                                                                                                  ...   \n",
       "10541                    brb writing a poem about climate change climatechange science poetry fakenews alternativefacts    \n",
       "10542     2016 the year climate change came home during the hottest year on record karl mathiesen travelled to tasmania    \n",
       "10543                    pacific countries positive about fiji leading the global climate change conference in november    \n",
       "10544                                           youre so hot you must be the cause for global warming aldublaboroflove     \n",
       "10545    climate change is a global issue thats only getting worse eating plant based is the least amount of effo that h   \n",
       "\n",
       "       tweetid  \n",
       "0       169760  \n",
       "1        35326  \n",
       "2       224985  \n",
       "3       476263  \n",
       "4       872928  \n",
       "...        ...  \n",
       "10541   895714  \n",
       "10542   875167  \n",
       "10543    78329  \n",
       "10544   867455  \n",
       "10545   470892  \n",
       "\n",
       "[10546 rows x 2 columns]"
      ]
     },
     "metadata": {},
     "output_type": "display_data"
    }
   ],
   "source": [
    "with pd.option_context('display.max_colwidth', None):\n",
    "  display(df_test)"
   ]
  },
  {
   "cell_type": "code",
   "execution_count": null,
   "id": "3b3f988b",
   "metadata": {},
   "outputs": [],
   "source": []
  },
  {
   "cell_type": "markdown",
   "id": "2290adff",
   "metadata": {},
   "source": [
    "# 3. Exploratory Data Analysis (EDA)\n",
    "[Back to Table of Contents](#Table-of-Contents)\n",
    "\n",
    "⚡ Description: Exploratory data analysis ⚡ In this section, you are required to perform an in-depth analysis of all the variables in the DataFrame."
   ]
  },
  {
   "cell_type": "code",
   "execution_count": 19,
   "id": "65f4a638",
   "metadata": {},
   "outputs": [
    {
     "data": {
      "image/png": "[encoded data removed]",
      "text/plain": [
       "<Figure size 640x480 with 1 Axes>"
      ]
     },
     "metadata": {},
     "output_type": "display_data"
    }
   ],
   "source": [
    "# To visualize the distributon of the sentiments, we plot a count plot and the unique sentiments we have \n",
    "\n",
    "sns.countplot(x = 'sentiment', data = df, palette=\"hls\")\n",
    "plt.title(\"Distribution of sentiment\");"
   ]
  },
  {
   "cell_type": "code",
   "execution_count": 20,
   "id": "d390aaf4",
   "metadata": {},
   "outputs": [
    {
     "name": "stdout",
     "output_type": "stream",
     "text": [
      "['pro' 'news' 'neutral' 'anti']\n"
     ]
    },
    {
     "data": {
      "image/png": "[encoded data removed]",
      "text/plain": [
       "<Figure size 640x480 with 1 Axes>"
      ]
     },
     "metadata": {},
     "output_type": "display_data"
    }
   ],
   "source": [
    "pie_x = df.sentiment.value_counts()\n",
    "labels = df.sentiment.unique()\n",
    "\n",
    "\n",
    "# Define the label mapping dictionary\n",
    "label_mapping = {1: 'pro', 2: 'news', 0: 'neutral', -1: 'anti'}\n",
    "\n",
    "# Create a vectorized function to apply the mapping\n",
    "vfunc = np.vectorize(lambda x: label_mapping[x])\n",
    "\n",
    "# Apply the mapping to the labels\n",
    "mapped_labels = vfunc(labels)\n",
    "print(mapped_labels)\n",
    "\n",
    "# Remove the white background\n",
    "plt.figure().set_facecolor('#A3A3A3')\n",
    "plt.pie(df['sentiment'].value_counts(),autopct='%0.2f%%', labels = mapped_labels)\n",
    "plt.show()"
   ]
  },
  {
   "cell_type": "markdown",
   "id": "fb19fc22",
   "metadata": {},
   "source": [
    "Observation:\n",
    "from the bar graph above, we can deduce that we have 4 groups of sentiments.\n",
    "\n",
    "1.the sentiment is imbalanced\n",
    "\n",
    "2.let explore the tweets to generate insights\n",
    "\n",
    "To create a word cloud we first need to tokenize the tweets, lemmatize or stem the words and then join all as single sentences to create the word cloud\n",
    "\n",
    "*The word cloud will be divided into two groups one for people who believe in the effect of climate change and the other for those who do not beleieve"
   ]
  },
  {
   "cell_type": "code",
   "execution_count": 21,
   "id": "27f95bb2",
   "metadata": {},
   "outputs": [],
   "source": [
    "# import the word tokenizer to tokenize the twts, and lemmatizer to find the root word of the words in each message\n",
    "# from nltk.tokenize import word_tokenize, TreebankWordTokenizer\n",
    "from nltk.tokenize import word_tokenize\n",
    "from nltk.stem import WordNetLemmatizer \n",
    "from nltk.corpus import stopwords, wordnet"
   ]
  },
  {
   "cell_type": "code",
   "execution_count": 22,
   "id": "fdd3c4eb",
   "metadata": {},
   "outputs": [],
   "source": [
    "#Initialise the lemmatizer\n",
    "lemma = WordNetLemmatizer()\n",
    "\n",
    "# # Define a function to lemmatize a single tweet\n",
    "# def lemmatize_tweet(tweet):\n",
    "    \n",
    "#     # Lemmatize each word and join them back into a single string\n",
    "#     lemmatized_words = [lemma.lemmatize(twt) for twt in tweet]\n",
    "#     lemmatized_tweet = ' '.join(lemmatized_words)\n",
    "\n",
    "#     return lemmatized_tweet\n",
    "\n",
    "def lemmatize_tweet(df):\n",
    "    df[\"length\"] = df[\"message\"].str.len()\n",
    "    df[\"tokenized\"] = df[\"message\"].apply(word_tokenize)\n",
    "    df[\"parts-of-speech\"] = df[\"tokenized\"].apply(nltk.tag.pos_tag)\n",
    "    \n",
    "    def str2wordnet(tag):\n",
    "        conversion = {\"J\": wordnet.ADJ, \"V\": wordnet.VERB, \"N\": wordnet.NOUN, \"R\": wordnet.ADV}\n",
    "        try:\n",
    "            return conversion[tag[0].upper()]\n",
    "        except KeyError:\n",
    "            return wordnet.NOUN\n",
    "    \n",
    "    \n",
    "    df[\"parts-of-speech\"] = df[\"parts-of-speech\"].apply(\n",
    "        lambda tokens: [(word, str2wordnet(tag)) for word, tag in tokens]\n",
    "    )\n",
    "    df[\"clean_tweet\"] = df[\"parts-of-speech\"].apply(\n",
    "        lambda tokens: [lemma.lemmatize(word, tag) for word, tag in tokens]\n",
    "    )\n",
    "    df[\"clean_tweet\"] = df[\"clean_tweet\"].apply(lambda tokens: \" \".join(map(str, tokens)))\n",
    "    \n",
    "    return df"
   ]
  },
  {
   "cell_type": "code",
   "execution_count": 24,
   "id": "2c6b002e",
   "metadata": {},
   "outputs": [],
   "source": [
    "# df['clean_tweet'] = df['message'].apply(lemmatize_tweet)\n",
    "df = lemmatize_tweet(df)"
   ]
  },
  {
   "cell_type": "code",
   "execution_count": 25,
   "id": "b19379d5",
   "metadata": {},
   "outputs": [],
   "source": [
    "df_test = lemmatize_tweet(df_test)"
   ]
  },
  {
   "cell_type": "code",
   "execution_count": null,
   "id": "12d39afd",
   "metadata": {},
   "outputs": [],
   "source": []
  },
  {
   "cell_type": "markdown",
   "id": "6ad02329",
   "metadata": {},
   "source": [
    "# 4. Data Engineering\n",
    "[Back to Table of Contents](#Table-of-Contents)\n",
    "\n",
    "⚡ Description: Data engineering ⚡\n",
    "In this section you are required to: clean the dataset, and possibly create new features - as identified in the EDA phase.\n"
   ]
  },
  {
   "cell_type": "code",
   "execution_count": null,
   "id": "1aa9c482",
   "metadata": {},
   "outputs": [],
   "source": []
  },
  {
   "cell_type": "code",
   "execution_count": null,
   "id": "fc6f5ad2",
   "metadata": {},
   "outputs": [],
   "source": []
  },
  {
   "cell_type": "code",
   "execution_count": null,
   "id": "63957ae5",
   "metadata": {},
   "outputs": [],
   "source": []
  },
  {
   "cell_type": "markdown",
   "id": "1db30edb",
   "metadata": {},
   "source": [
    "# 5. Modelling\n",
    "[Back to Table of Contents](#Table-of-Contents)\n",
    "\n",
    "⚡ Description: Modelling ⚡\n",
    "In this section, you are required to create one or more regression models that are able to accurately predict the thee hour load shortfall.\n"
   ]
  },
  {
   "cell_type": "code",
   "execution_count": null,
   "id": "401e4e13",
   "metadata": {},
   "outputs": [],
   "source": []
  },
  {
   "cell_type": "code",
   "execution_count": null,
   "id": "e6e6b354",
   "metadata": {},
   "outputs": [],
   "source": []
  },
  {
   "cell_type": "code",
   "execution_count": null,
   "id": "bfd30a0b",
   "metadata": {},
   "outputs": [],
   "source": []
  },
  {
   "cell_type": "markdown",
   "id": "56d84fe4",
   "metadata": {},
   "source": [
    "# 6. Model Performance\n",
    "[Back to Table of Contents](#Table-of-Contents)\n",
    "\n",
    "⚡ Description: Model performance ⚡\n",
    "In this section you are required to compare the relative performance of the various trained ML models on a holdout dataset and comment on what model is the best and why."
   ]
  },
  {
   "cell_type": "code",
   "execution_count": null,
   "id": "cf21adb5",
   "metadata": {},
   "outputs": [],
   "source": []
  },
  {
   "cell_type": "code",
   "execution_count": null,
   "id": "1abf1b48",
   "metadata": {},
   "outputs": [],
   "source": []
  },
  {
   "cell_type": "code",
   "execution_count": null,
   "id": "c70ed52a",
   "metadata": {},
   "outputs": [],
   "source": []
  },
  {
   "cell_type": "markdown",
   "id": "ab07a43f",
   "metadata": {},
   "source": [
    "# 7. Model Explanations\n",
    "[Back to Table of Contents](#Table-of-Contents)\n",
    "\n",
    "⚡ Description: Model explanation ⚡\n",
    "In this section, you are required to discuss how the best performing model works in a simple way so that both technical and non-technical stakeholders can grasp the intuition behind the model's inner workings."
   ]
  },
  {
   "cell_type": "code",
   "execution_count": null,
   "id": "464524e1",
   "metadata": {},
   "outputs": [],
   "source": []
  },
  {
   "cell_type": "code",
   "execution_count": null,
   "id": "25518ffe",
   "metadata": {},
   "outputs": [],
   "source": []
  },
  {
   "cell_type": "code",
   "execution_count": null,
   "id": "803eb1e2",
   "metadata": {},
   "outputs": [],
   "source": []
  }
 ],
 "metadata": {
  "kernelspec": {
   "display_name": "Python 3 (ipykernel)",
   "language": "python",
   "name": "python3"
  },
  "language_info": {
   "codemirror_mode": {
    "name": "ipython",
    "version": 3
   },
   "file_extension": ".py",
   "mimetype": "text/x-python",
   "name": "python",
   "nbconvert_exporter": "python",
   "pygments_lexer": "ipython3",
   "version": "3.11.5"
  }
 },
 "nbformat": 4,
 "nbformat_minor": 5
}
